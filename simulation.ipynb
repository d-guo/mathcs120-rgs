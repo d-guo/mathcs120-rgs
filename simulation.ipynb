{
 "cells": [
  {
   "cell_type": "markdown",
   "metadata": {},
   "source": [
    "## Simulation using Random Graphs"
   ]
  },
  {
   "cell_type": "markdown",
   "metadata": {},
   "source": [
    "### Description\n",
    "In part I, we simulate the random graphs\n",
    "\n",
    "1. $G(n, \\frac{1}{n^{1.1}})$\n",
    "2. $G(n, \\frac{1}{n})$\n",
    "3. $G(n, \\frac{4}{n})$\n",
    "4. $G(n, \\frac{\\log(n)}{n})$\n",
    "\n",
    "for various $n$ and plot the number of triangles as a function of $n$.\n",
    "\n",
    "In part II, we simulate $G(n, \\frac{\\lambda}{n})$ with $\\lambda = 2$ for various $n$ and plot the size of the largest component as a function of $n$."
   ]
  },
  {
   "cell_type": "markdown",
   "metadata": {},
   "source": [
    "#### Requirements\n",
    "\n",
    "- Python 3.8 (but I am guessing that 3.3+ is sufficient)\n",
    "- networkx (can be installed with pip3 install networkx)\n",
    "- matplotplib"
   ]
  },
  {
   "cell_type": "code",
   "execution_count": 75,
   "metadata": {},
   "outputs": [],
   "source": [
    "import networkx as nx\n",
    "import random\n",
    "import matplotlib.pyplot as plt"
   ]
  },
  {
   "cell_type": "markdown",
   "metadata": {},
   "source": [
    "### Graph 1\n",
    "$G(n, \\frac{1}{n})$ "
   ]
  },
  {
   "cell_type": "code",
   "execution_count": 86,
   "metadata": {},
   "outputs": [],
   "source": [
    "# set range of values for n [a, b)\n",
    "a, b = 0, 1000\n",
    "\n",
    "# set step size\n",
    "s = 10"
   ]
  },
  {
   "cell_type": "code",
   "execution_count": 90,
   "metadata": {},
   "outputs": [],
   "source": [
    "G1_num_of_triangles = []\n",
    "\n",
    "for n in range(a, b, s):\n",
    "    if n == 0:\n",
    "        G1_num_of_triangles.append(0)\n",
    "        continue\n",
    "    \n",
    "    # initializes an empty graph\n",
    "    G1 = nx.Graph()\n",
    "\n",
    "    # create nodes\n",
    "    G1.add_nodes_from(range(n))\n",
    "\n",
    "    # create edges with probability according to n\n",
    "    p = 1 / n\n",
    "    for i in range(n):\n",
    "        for j in range(i + 1, n):\n",
    "            if random.uniform(0, 1) < p:\n",
    "                G1.add_edge(i, j)\n",
    "    \n",
    "    # count triangles and add to list\n",
    "    # nx.algorithms.cluster.triangles(G1) returns a dictionary formatted as\n",
    "    # {node: number of triangles with that node}\n",
    "    # to find total triangles, we sum all of these and divide by 3\n",
    "    G1_num_of_triangles.append(int(sum(nx.algorithms.cluster.triangles(G1).values()) / 3))"
   ]
  },
  {
   "cell_type": "code",
   "execution_count": 91,
   "metadata": {},
   "outputs": [
    {
     "data": {
      "text/plain": [
       "[<matplotlib.lines.Line2D at 0x7fa5140dc310>]"
      ]
     },
     "execution_count": 91,
     "metadata": {},
     "output_type": "execute_result"
    },
    {
     "data": {
      "image/png": "[encoded data removed]",
      "text/plain": [
       "<Figure size 432x288 with 1 Axes>"
      ]
     },
     "metadata": {
      "needs_background": "light"
     },
     "output_type": "display_data"
    }
   ],
   "source": [
    "plt.plot(range(a, b, s), G1_num_of_triangles)"
   ]
  },
  {
   "cell_type": "code",
   "execution_count": 89,
   "metadata": {},
   "outputs": [],
   "source": [
    "## TODO make the above a function and use lambda for the probability"
   ]
  },
  {
   "cell_type": "code",
   "execution_count": null,
   "metadata": {},
   "outputs": [],
   "source": []
  }
 ],
 "metadata": {
  "kernelspec": {
   "display_name": "Python 3",
   "language": "python",
   "name": "python3"
  },
  "language_info": {
   "codemirror_mode": {
    "name": "ipython",
    "version": 3
   },
   "file_extension": ".py",
   "mimetype": "text/x-python",
   "name": "python",
   "nbconvert_exporter": "python",
   "pygments_lexer": "ipython3",
   "version": "3.8.2"
  }
 },
 "nbformat": 4,
 "nbformat_minor": 4
}
